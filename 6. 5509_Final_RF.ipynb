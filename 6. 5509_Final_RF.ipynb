{
 "cells": [
  {
   "cell_type": "code",
   "execution_count": 1,
   "id": "d426fded-a2d5-44a2-a67f-0c6782a9669a",
   "metadata": {},
   "outputs": [],
   "source": [
    "import pandas as pd \n",
    "import matplotlib.pyplot as plt\n",
    "import seaborn as sbn\n",
    "import numpy as np\n",
    "import os\n",
    "import warnings\n",
    "from sklearn.preprocessing import OneHotEncoder\n",
    "from sklearn.model_selection import train_test_split\n",
    "from sklearn.model_selection import cross_validate, GridSearchCV\n",
    "from sklearn.ensemble import RandomForestClassifier\n",
    "from sklearn.metrics import accuracy_score, recall_score, f1_score\n",
    "from sklearn.metrics import confusion_matrix, ConfusionMatrixDisplay"
   ]
  },
  {
   "cell_type": "code",
   "execution_count": 4,
   "id": "5075e28f-0161-4057-9540-9698c737834d",
   "metadata": {},
   "outputs": [],
   "source": [
    "df = pd.read_excel('ded_df.xlsx', dtype = {'sleep_quality': str, 'stress_level': str}).iloc[:,1:]"
   ]
  },
  {
   "cell_type": "markdown",
   "id": "701d47c5-2414-4241-82af-1346a4f540db",
   "metadata": {},
   "source": [
    "# Random Forest"
   ]
  },
  {
   "cell_type": "code",
   "execution_count": 68,
   "id": "51c13728-b389-4bf8-8506-1cdfa4b1db28",
   "metadata": {},
   "outputs": [],
   "source": [
    "# Drop first category of categorical variables\n",
    "df_dummify = pd.get_dummies(df, drop_first = True)\n",
    "\n",
    "# Split df_dummify into X and y\n",
    "X, y = df_dummify.iloc[:,:-1], df_dummify.loc[:,'dry_eye_disease_Y']\n",
    "\n",
    "# Split X and y into train set and test set\n",
    "X_train, X_test, y_train, y_test = train_test_split(\n",
    "    X, y, test_size = 0.2, random_state = 30) "
   ]
  },
  {
   "cell_type": "code",
   "execution_count": 84,
   "id": "edc2911d-a4c9-446b-ab2d-b894f5077267",
   "metadata": {},
   "outputs": [],
   "source": [
    "# Setting parameters for a grid search\n",
    "max_depth = np.arange(4,8,1)\n",
    "\n",
    "n_estimators = np.arange(100,225,25)\n",
    "\n",
    "max_features = ['sqrt', 'log2',None]\n",
    "\n",
    "parameters = {'max_depth' : max_depth, 'n_estimators': n_estimators, 'max_features': max_features}"
   ]
  },
  {
   "cell_type": "code",
   "execution_count": 86,
   "id": "2634a656-7914-4a7c-b140-0f3165461207",
   "metadata": {},
   "outputs": [
    {
     "data": {
      "text/html": [
       "<style>#sk-container-id-2 {color: black;}#sk-container-id-2 pre{padding: 0;}#sk-container-id-2 div.sk-toggleable {background-color: white;}#sk-container-id-2 label.sk-toggleable__label {cursor: pointer;display: block;width: 100%;margin-bottom: 0;padding: 0.3em;box-sizing: border-box;text-align: center;}#sk-container-id-2 label.sk-toggleable__label-arrow:before {content: \"▸\";float: left;margin-right: 0.25em;color: #696969;}#sk-container-id-2 label.sk-toggleable__label-arrow:hover:before {color: black;}#sk-container-id-2 div.sk-estimator:hover label.sk-toggleable__label-arrow:before {color: black;}#sk-container-id-2 div.sk-toggleable__content {max-height: 0;max-width: 0;overflow: hidden;text-align: left;background-color: #f0f8ff;}#sk-container-id-2 div.sk-toggleable__content pre {margin: 0.2em;color: black;border-radius: 0.25em;background-color: #f0f8ff;}#sk-container-id-2 input.sk-toggleable__control:checked~div.sk-toggleable__content {max-height: 200px;max-width: 100%;overflow: auto;}#sk-container-id-2 input.sk-toggleable__control:checked~label.sk-toggleable__label-arrow:before {content: \"▾\";}#sk-container-id-2 div.sk-estimator input.sk-toggleable__control:checked~label.sk-toggleable__label {background-color: #d4ebff;}#sk-container-id-2 div.sk-label input.sk-toggleable__control:checked~label.sk-toggleable__label {background-color: #d4ebff;}#sk-container-id-2 input.sk-hidden--visually {border: 0;clip: rect(1px 1px 1px 1px);clip: rect(1px, 1px, 1px, 1px);height: 1px;margin: -1px;overflow: hidden;padding: 0;position: absolute;width: 1px;}#sk-container-id-2 div.sk-estimator {font-family: monospace;background-color: #f0f8ff;border: 1px dotted black;border-radius: 0.25em;box-sizing: border-box;margin-bottom: 0.5em;}#sk-container-id-2 div.sk-estimator:hover {background-color: #d4ebff;}#sk-container-id-2 div.sk-parallel-item::after {content: \"\";width: 100%;border-bottom: 1px solid gray;flex-grow: 1;}#sk-container-id-2 div.sk-label:hover label.sk-toggleable__label {background-color: #d4ebff;}#sk-container-id-2 div.sk-serial::before {content: \"\";position: absolute;border-left: 1px solid gray;box-sizing: border-box;top: 0;bottom: 0;left: 50%;z-index: 0;}#sk-container-id-2 div.sk-serial {display: flex;flex-direction: column;align-items: center;background-color: white;padding-right: 0.2em;padding-left: 0.2em;position: relative;}#sk-container-id-2 div.sk-item {position: relative;z-index: 1;}#sk-container-id-2 div.sk-parallel {display: flex;align-items: stretch;justify-content: center;background-color: white;position: relative;}#sk-container-id-2 div.sk-item::before, #sk-container-id-2 div.sk-parallel-item::before {content: \"\";position: absolute;border-left: 1px solid gray;box-sizing: border-box;top: 0;bottom: 0;left: 50%;z-index: -1;}#sk-container-id-2 div.sk-parallel-item {display: flex;flex-direction: column;z-index: 1;position: relative;background-color: white;}#sk-container-id-2 div.sk-parallel-item:first-child::after {align-self: flex-end;width: 50%;}#sk-container-id-2 div.sk-parallel-item:last-child::after {align-self: flex-start;width: 50%;}#sk-container-id-2 div.sk-parallel-item:only-child::after {width: 0;}#sk-container-id-2 div.sk-dashed-wrapped {border: 1px dashed gray;margin: 0 0.4em 0.5em 0.4em;box-sizing: border-box;padding-bottom: 0.4em;background-color: white;}#sk-container-id-2 div.sk-label label {font-family: monospace;font-weight: bold;display: inline-block;line-height: 1.2em;}#sk-container-id-2 div.sk-label-container {text-align: center;}#sk-container-id-2 div.sk-container {/* jupyter's `normalize.less` sets `[hidden] { display: none; }` but bootstrap.min.css set `[hidden] { display: none !important; }` so we also need the `!important` here to be able to override the default hidden behavior on the sphinx rendered scikit-learn.org. See: https://github.com/scikit-learn/scikit-learn/issues/21755 */display: inline-block !important;position: relative;}#sk-container-id-2 div.sk-text-repr-fallback {display: none;}</style><div id=\"sk-container-id-2\" class=\"sk-top-container\"><div class=\"sk-text-repr-fallback\"><pre>GridSearchCV(estimator=RandomForestClassifier(max_samples=0.667, oob_score=True,\n",
       "                                              random_state=2000),\n",
       "             param_grid={&#x27;max_depth&#x27;: array([4, 5, 6, 7]),\n",
       "                         &#x27;max_features&#x27;: [&#x27;sqrt&#x27;, &#x27;log2&#x27;, None],\n",
       "                         &#x27;n_estimators&#x27;: array([100, 125, 150, 175, 200])})</pre><b>In a Jupyter environment, please rerun this cell to show the HTML representation or trust the notebook. <br />On GitHub, the HTML representation is unable to render, please try loading this page with nbviewer.org.</b></div><div class=\"sk-container\" hidden><div class=\"sk-item sk-dashed-wrapped\"><div class=\"sk-label-container\"><div class=\"sk-label sk-toggleable\"><input class=\"sk-toggleable__control sk-hidden--visually\" id=\"sk-estimator-id-2\" type=\"checkbox\" ><label for=\"sk-estimator-id-2\" class=\"sk-toggleable__label sk-toggleable__label-arrow\">GridSearchCV</label><div class=\"sk-toggleable__content\"><pre>GridSearchCV(estimator=RandomForestClassifier(max_samples=0.667, oob_score=True,\n",
       "                                              random_state=2000),\n",
       "             param_grid={&#x27;max_depth&#x27;: array([4, 5, 6, 7]),\n",
       "                         &#x27;max_features&#x27;: [&#x27;sqrt&#x27;, &#x27;log2&#x27;, None],\n",
       "                         &#x27;n_estimators&#x27;: array([100, 125, 150, 175, 200])})</pre></div></div></div><div class=\"sk-parallel\"><div class=\"sk-parallel-item\"><div class=\"sk-item\"><div class=\"sk-label-container\"><div class=\"sk-label sk-toggleable\"><input class=\"sk-toggleable__control sk-hidden--visually\" id=\"sk-estimator-id-3\" type=\"checkbox\" ><label for=\"sk-estimator-id-3\" class=\"sk-toggleable__label sk-toggleable__label-arrow\">estimator: RandomForestClassifier</label><div class=\"sk-toggleable__content\"><pre>RandomForestClassifier(max_samples=0.667, oob_score=True, random_state=2000)</pre></div></div></div><div class=\"sk-serial\"><div class=\"sk-item\"><div class=\"sk-estimator sk-toggleable\"><input class=\"sk-toggleable__control sk-hidden--visually\" id=\"sk-estimator-id-4\" type=\"checkbox\" ><label for=\"sk-estimator-id-4\" class=\"sk-toggleable__label sk-toggleable__label-arrow\">RandomForestClassifier</label><div class=\"sk-toggleable__content\"><pre>RandomForestClassifier(max_samples=0.667, oob_score=True, random_state=2000)</pre></div></div></div></div></div></div></div></div></div></div>"
      ],
      "text/plain": [
       "GridSearchCV(estimator=RandomForestClassifier(max_samples=0.667, oob_score=True,\n",
       "                                              random_state=2000),\n",
       "             param_grid={'max_depth': array([4, 5, 6, 7]),\n",
       "                         'max_features': ['sqrt', 'log2', None],\n",
       "                         'n_estimators': array([100, 125, 150, 175, 200])})"
      ]
     },
     "execution_count": 86,
     "metadata": {},
     "output_type": "execute_result"
    }
   ],
   "source": [
    "# random forest model\n",
    "RF_Grid = RandomForestClassifier(random_state = 2000, oob_score = True, max_samples = 0.667)\n",
    "RF_Grid\n",
    "\n",
    "# Grid search object \n",
    "GS_CV_RF = GridSearchCV(RF_Grid, parameters).fit(X_train, y_train)\n",
    "GS_CV_RF"
   ]
  },
  {
   "cell_type": "code",
   "execution_count": 90,
   "id": "10adbad8-5e68-4627-b96d-9234d874c264",
   "metadata": {},
   "outputs": [],
   "source": [
    "yhat_grid = GS_CV_RF.best_estimator_.predict(X_test)"
   ]
  },
  {
   "cell_type": "code",
   "execution_count": 126,
   "id": "a996778c-c824-4ab3-98ae-b32b980ffa81",
   "metadata": {},
   "outputs": [
    {
     "data": {
      "text/html": [
       "<style>#sk-container-id-5 {color: black;}#sk-container-id-5 pre{padding: 0;}#sk-container-id-5 div.sk-toggleable {background-color: white;}#sk-container-id-5 label.sk-toggleable__label {cursor: pointer;display: block;width: 100%;margin-bottom: 0;padding: 0.3em;box-sizing: border-box;text-align: center;}#sk-container-id-5 label.sk-toggleable__label-arrow:before {content: \"▸\";float: left;margin-right: 0.25em;color: #696969;}#sk-container-id-5 label.sk-toggleable__label-arrow:hover:before {color: black;}#sk-container-id-5 div.sk-estimator:hover label.sk-toggleable__label-arrow:before {color: black;}#sk-container-id-5 div.sk-toggleable__content {max-height: 0;max-width: 0;overflow: hidden;text-align: left;background-color: #f0f8ff;}#sk-container-id-5 div.sk-toggleable__content pre {margin: 0.2em;color: black;border-radius: 0.25em;background-color: #f0f8ff;}#sk-container-id-5 input.sk-toggleable__control:checked~div.sk-toggleable__content {max-height: 200px;max-width: 100%;overflow: auto;}#sk-container-id-5 input.sk-toggleable__control:checked~label.sk-toggleable__label-arrow:before {content: \"▾\";}#sk-container-id-5 div.sk-estimator input.sk-toggleable__control:checked~label.sk-toggleable__label {background-color: #d4ebff;}#sk-container-id-5 div.sk-label input.sk-toggleable__control:checked~label.sk-toggleable__label {background-color: #d4ebff;}#sk-container-id-5 input.sk-hidden--visually {border: 0;clip: rect(1px 1px 1px 1px);clip: rect(1px, 1px, 1px, 1px);height: 1px;margin: -1px;overflow: hidden;padding: 0;position: absolute;width: 1px;}#sk-container-id-5 div.sk-estimator {font-family: monospace;background-color: #f0f8ff;border: 1px dotted black;border-radius: 0.25em;box-sizing: border-box;margin-bottom: 0.5em;}#sk-container-id-5 div.sk-estimator:hover {background-color: #d4ebff;}#sk-container-id-5 div.sk-parallel-item::after {content: \"\";width: 100%;border-bottom: 1px solid gray;flex-grow: 1;}#sk-container-id-5 div.sk-label:hover label.sk-toggleable__label {background-color: #d4ebff;}#sk-container-id-5 div.sk-serial::before {content: \"\";position: absolute;border-left: 1px solid gray;box-sizing: border-box;top: 0;bottom: 0;left: 50%;z-index: 0;}#sk-container-id-5 div.sk-serial {display: flex;flex-direction: column;align-items: center;background-color: white;padding-right: 0.2em;padding-left: 0.2em;position: relative;}#sk-container-id-5 div.sk-item {position: relative;z-index: 1;}#sk-container-id-5 div.sk-parallel {display: flex;align-items: stretch;justify-content: center;background-color: white;position: relative;}#sk-container-id-5 div.sk-item::before, #sk-container-id-5 div.sk-parallel-item::before {content: \"\";position: absolute;border-left: 1px solid gray;box-sizing: border-box;top: 0;bottom: 0;left: 50%;z-index: -1;}#sk-container-id-5 div.sk-parallel-item {display: flex;flex-direction: column;z-index: 1;position: relative;background-color: white;}#sk-container-id-5 div.sk-parallel-item:first-child::after {align-self: flex-end;width: 50%;}#sk-container-id-5 div.sk-parallel-item:last-child::after {align-self: flex-start;width: 50%;}#sk-container-id-5 div.sk-parallel-item:only-child::after {width: 0;}#sk-container-id-5 div.sk-dashed-wrapped {border: 1px dashed gray;margin: 0 0.4em 0.5em 0.4em;box-sizing: border-box;padding-bottom: 0.4em;background-color: white;}#sk-container-id-5 div.sk-label label {font-family: monospace;font-weight: bold;display: inline-block;line-height: 1.2em;}#sk-container-id-5 div.sk-label-container {text-align: center;}#sk-container-id-5 div.sk-container {/* jupyter's `normalize.less` sets `[hidden] { display: none; }` but bootstrap.min.css set `[hidden] { display: none !important; }` so we also need the `!important` here to be able to override the default hidden behavior on the sphinx rendered scikit-learn.org. See: https://github.com/scikit-learn/scikit-learn/issues/21755 */display: inline-block !important;position: relative;}#sk-container-id-5 div.sk-text-repr-fallback {display: none;}</style><div id=\"sk-container-id-5\" class=\"sk-top-container\"><div class=\"sk-text-repr-fallback\"><pre>RandomForestClassifier(max_depth=4, max_features=None, max_samples=0.667,\n",
       "                       oob_score=True, random_state=2000)</pre><b>In a Jupyter environment, please rerun this cell to show the HTML representation or trust the notebook. <br />On GitHub, the HTML representation is unable to render, please try loading this page with nbviewer.org.</b></div><div class=\"sk-container\" hidden><div class=\"sk-item\"><div class=\"sk-estimator sk-toggleable\"><input class=\"sk-toggleable__control sk-hidden--visually\" id=\"sk-estimator-id-7\" type=\"checkbox\" checked><label for=\"sk-estimator-id-7\" class=\"sk-toggleable__label sk-toggleable__label-arrow\">RandomForestClassifier</label><div class=\"sk-toggleable__content\"><pre>RandomForestClassifier(max_depth=4, max_features=None, max_samples=0.667,\n",
       "                       oob_score=True, random_state=2000)</pre></div></div></div></div></div>"
      ],
      "text/plain": [
       "RandomForestClassifier(max_depth=4, max_features=None, max_samples=0.667,\n",
       "                       oob_score=True, random_state=2000)"
      ]
     },
     "execution_count": 126,
     "metadata": {},
     "output_type": "execute_result"
    }
   ],
   "source": [
    "GS_CV_RF.best_estimator_"
   ]
  },
  {
   "cell_type": "code",
   "execution_count": 103,
   "id": "9fad2846-cb3c-47cc-9a68-c4074fc37f78",
   "metadata": {},
   "outputs": [
    {
     "data": {
      "text/plain": [
       "{'max_depth': 4, 'max_features': None, 'n_estimators': 100}"
      ]
     },
     "execution_count": 103,
     "metadata": {},
     "output_type": "execute_result"
    }
   ],
   "source": [
    "GS_CV_RF.best_params_"
   ]
  },
  {
   "cell_type": "code",
   "execution_count": 115,
   "id": "aaaa0821-fd36-495d-9014-69b7b7e53890",
   "metadata": {},
   "outputs": [],
   "source": [
    "cv_results = GS_CV_RF.cv_results_"
   ]
  },
  {
   "cell_type": "code",
   "execution_count": 92,
   "id": "86a78732-3cf3-41ad-9995-ae32aec71766",
   "metadata": {},
   "outputs": [
    {
     "data": {
      "text/plain": [
       "{'fit_time': array([3.53238702, 2.88036585, 2.91574407]),\n",
       " 'score_time': array([0.11275792, 0.09975696, 0.19126654]),\n",
       " 'test_accuracy': array([0.70614693, 0.68942236, 0.71717929]),\n",
       " 'test_recall': array([0.92980437, 0.9424626 , 0.94585253]),\n",
       " 'test_f1': array([0.80478088, 0.79824561, 0.8132739 ])}"
      ]
     },
     "execution_count": 92,
     "metadata": {},
     "output_type": "execute_result"
    }
   ],
   "source": [
    "cv_rf_grid = cross_validate(GS_CV_RF.best_estimator_, X_test, y_test, cv = 3,\n",
    "              scoring = ('accuracy', 'recall', 'f1'))\n",
    "cv_rf_grid"
   ]
  },
  {
   "cell_type": "code",
   "execution_count": 94,
   "id": "7c6d83ea-a2c6-44dc-93e6-559b321755b3",
   "metadata": {},
   "outputs": [
    {
     "name": "stdout",
     "output_type": "stream",
     "text": [
      "accuracy is 0.7042495256497782\n",
      "recall is 0.9393731693650027\n",
      "f1 score is 0.8054334628328012\n"
     ]
    }
   ],
   "source": [
    "# cross validate test set with metrics accuracy, recall and f1\n",
    "accuracy_score = np.mean(cv_rf_grid['test_accuracy'])\n",
    "recall_score = np.mean(cv_rf_grid['test_recall'])\n",
    "f1_score = np.mean(cv_rf_grid['test_f1'])\n",
    "print(\"accuracy is {}\".format(accuracy_score))\n",
    "print(\"recall is {}\".format(recall_score))\n",
    "print(\"f1 score is {}\".format(f1_score))"
   ]
  },
  {
   "cell_type": "code",
   "execution_count": 109,
   "id": "3e55a647-57df-4521-8275-8c5d788a8b23",
   "metadata": {},
   "outputs": [
    {
     "data": {
      "image/png": "[encoded data removed]",
      "text/plain": [
       "<Figure size 640x480 with 2 Axes>"
      ]
     },
     "metadata": {},
     "output_type": "display_data"
    }
   ],
   "source": [
    "cm = confusion_matrix(y_test, yhat_grid, labels = GS_CV_RF.best_estimator_.classes_)\n",
    "\n",
    "disp = ConfusionMatrixDisplay(confusion_matrix=cm,\n",
    "                              display_labels = GS_CV_RF.best_estimator_.classes_\n",
    "                              )\n",
    "disp.plot()\n",
    "plt.savefig('CM_rf_grid_model.png')\n",
    "#plt.show()"
   ]
  },
  {
   "cell_type": "markdown",
   "id": "f4ac1a21-7359-4ecb-9472-acb913994a39",
   "metadata": {},
   "source": [
    "# Report"
   ]
  },
  {
   "cell_type": "code",
   "execution_count": 9,
   "id": "b4d3c8e4-6529-4f82-98a4-7ce164002894",
   "metadata": {},
   "outputs": [],
   "source": [
    "import time \n",
    "#importing the time library "
   ]
  },
  {
   "cell_type": "code",
   "execution_count": 10,
   "id": "6c81e437-f5c9-4252-8c3b-e6511e373adc",
   "metadata": {},
   "outputs": [],
   "source": [
    "start = time.time()\n",
    "#the current time\n",
    "\n",
    "# Drop first category of categorical variables\n",
    "df_dummify = pd.get_dummies(df, drop_first = True)\n",
    "\n",
    "# Split df_dummify into X and y\n",
    "X, y = df_dummify.iloc[:,:-1], df_dummify.loc[:,'dry_eye_disease_Y']\n",
    "\n",
    "# Split X and y into train set and test set\n",
    "X_train, X_test, y_train, y_test = train_test_split(\n",
    "    X, y, test_size = 0.2, random_state = 30) \n",
    "    \n",
    "RF_Best = RandomForestClassifier(random_state = 2000, oob_score = True, max_samples = 0.667, max_depth = 4).fit(X_train, y_train)\n",
    "\n",
    "yhat = RF_Best.predict(X_test)\n",
    "\n",
    "cv_rf = cross_validate(RF_Best, X_test, y_test, cv = 3,\n",
    "              scoring = ('accuracy', 'recall', 'f1'))\n",
    "              \n",
    "# cross validate test set with metrics accuracy, recall and f1\n",
    "accuracy_score = np.mean(cv_rf['test_accuracy'])\n",
    "recall_score = np.mean(cv_rf['test_recall'])\n",
    "f1_score = np.mean(cv_rf['test_f1'])\n",
    "\n",
    "end = time.time()"
   ]
  },
  {
   "cell_type": "code",
   "execution_count": 11,
   "id": "3817fac4-2999-40ce-b15a-5f57fba7ddb2",
   "metadata": {},
   "outputs": [
    {
     "name": "stdout",
     "output_type": "stream",
     "text": [
      "THE PROCESS TOOK : 1.9305460453033447\n"
     ]
    }
   ],
   "source": [
    "print(\"THE PROCESS TOOK :\",end - start)"
   ]
  }
 ],
 "metadata": {
  "kernelspec": {
   "display_name": "anaconda-ai-2024.04-py310",
   "language": "python",
   "name": "conda-env-anaconda-ai-2024.04-py310-py"
  },
  "language_info": {
   "codemirror_mode": {
    "name": "ipython",
    "version": 3
   },
   "file_extension": ".py",
   "mimetype": "text/x-python",
   "name": "python",
   "nbconvert_exporter": "python",
   "pygments_lexer": "ipython3",
   "version": "3.10.13"
  }
 },
 "nbformat": 4,
 "nbformat_minor": 5
}
