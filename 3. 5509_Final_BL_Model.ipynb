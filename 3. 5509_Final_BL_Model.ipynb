{
 "cells": [
  {
   "cell_type": "code",
   "execution_count": 1,
   "id": "b5270834-9847-4d74-b102-1703d339fbd5",
   "metadata": {},
   "outputs": [],
   "source": [
    "import pandas as pd \n",
    "import matplotlib.pyplot as plt\n",
    "import seaborn as sbn\n",
    "import numpy as np\n",
    "import os\n",
    "import warnings\n",
    "from sklearn.preprocessing import OneHotEncoder\n",
    "from sklearn.model_selection import train_test_split\n",
    "from sklearn.linear_model import LogisticRegression\n",
    "from sklearn.model_selection import cross_validate\n",
    "from sklearn.metrics import accuracy_score, recall_score, f1_score\n",
    "from sklearn.metrics import confusion_matrix, ConfusionMatrixDisplay"
   ]
  },
  {
   "cell_type": "code",
   "execution_count": 3,
   "id": "e84ce93c-cfbb-4682-8848-69cc296fdf59",
   "metadata": {},
   "outputs": [],
   "source": [
    "df = pd.read_excel('ded_df.xlsx', dtype = {'sleep_quality': str, 'stress_level': str}).iloc[:,1:]"
   ]
  },
  {
   "cell_type": "markdown",
   "id": "0e8a1508-6215-4223-a76a-ce20d1f57281",
   "metadata": {},
   "source": [
    "# Baseline model "
   ]
  },
  {
   "cell_type": "code",
   "execution_count": 7,
   "id": "1c0ae0d0-4874-4c0c-bef1-a7c3ad53cb2c",
   "metadata": {},
   "outputs": [],
   "source": [
    "# Drop first category of categorical variables\n",
    "df_dummify = pd.get_dummies(df, drop_first = True)\n",
    "\n",
    "# replace 0 with 10**-10 so the natural log can be calculated\n",
    "list(df_dummify)[:10]\n",
    "\n",
    "for i in list(df_dummify)[:10]:\n",
    "    df_dummify[i] = df_dummify[i].replace(0, 10**-10)\n",
    "\n",
    "# Get the natural log of the continuous variables \n",
    "df_dummify = df_dummify.apply(lambda x: np.log(x) if np.issubdtype(x.dtype, np.number) else x)"
   ]
  },
  {
   "cell_type": "code",
   "execution_count": 8,
   "id": "0a682dca-d46d-45cf-9cd8-7db55fb23ec0",
   "metadata": {},
   "outputs": [],
   "source": [
    "# select columns for baseline model \n",
    "df_bl = df_dummify.loc[:,['discomfort_eye-strain_Y', 'redness_in_eye_Y', 'irritation_in_eye_Y', 'dry_eye_disease_Y']]"
   ]
  },
  {
   "cell_type": "code",
   "execution_count": 9,
   "id": "839679d9-0a2e-4706-a7c6-96fdbd554f87",
   "metadata": {},
   "outputs": [],
   "source": [
    "# Split df_dummify into X and y\n",
    "X, y = df_bl.iloc[:,:-1], df_bl.loc[:,'dry_eye_disease_Y']"
   ]
  },
  {
   "cell_type": "code",
   "execution_count": 10,
   "id": "f2450300-5cc4-4399-8b2c-f78865355e97",
   "metadata": {},
   "outputs": [],
   "source": [
    "# Split X and y into train set and test set\n",
    "X_train, X_test, y_train, y_test = train_test_split(\n",
    "    X, y, test_size = 0.2, random_state = 30)\n",
    "\n",
    "# fit baseline logit model \n",
    "baseline_model = LogisticRegression().fit(X_train, y_train)\n",
    "\n",
    "# predict test set samples \n",
    "yhat = baseline_model.predict(X_test)"
   ]
  },
  {
   "cell_type": "code",
   "execution_count": 31,
   "id": "8d98255a-6035-4f67-9f60-2b00b9dc6eab",
   "metadata": {},
   "outputs": [
    {
     "data": {
      "text/plain": [
       "{'fit_time': array([0.00502682, 0.00451469, 0.00534582]),\n",
       " 'score_time': array([0.00717044, 0.00716686, 0.00744605]),\n",
       " 'test_accuracy': array([0.70614693, 0.68942236, 0.71717929]),\n",
       " 'test_recall': array([0.92980437, 0.9424626 , 0.94585253]),\n",
       " 'test_f1': array([0.80478088, 0.79824561, 0.8132739 ])}"
      ]
     },
     "execution_count": 31,
     "metadata": {},
     "output_type": "execute_result"
    }
   ],
   "source": [
    "# cross validate test set with metrics accuracy, recall and f1\n",
    "cv_baseline = cross_validate(baseline_model, X_test, y_test, cv = 3,\n",
    "              scoring = ('accuracy', 'recall', 'f1'))\n",
    "cv_baseline"
   ]
  },
  {
   "cell_type": "code",
   "execution_count": 55,
   "id": "da8c3d0d-17a9-4b1f-b387-57df1a5e4e1a",
   "metadata": {},
   "outputs": [
    {
     "name": "stdout",
     "output_type": "stream",
     "text": [
      "accuracy is 0.7042495256497782\n",
      "recall is 0.9393731693650027\n",
      "f1 score is 0.8054334628328012\n"
     ]
    }
   ],
   "source": [
    "accuracy_score = np.mean(cv_baseline['test_accuracy'])\n",
    "recall_score = np.mean(cv_baseline['test_recall'])\n",
    "f1_score = np.mean(cv_baseline['test_f1'])\n",
    "print(\"accuracy is {}\".format(accuracy_score))\n",
    "print(\"recall is {}\".format(recall_score))\n",
    "print(\"f1 score is {}\".format(f1_score))"
   ]
  },
  {
   "cell_type": "code",
   "execution_count": 57,
   "id": "3ae71b31-faa7-4dfe-bf57-b15393c43d8a",
   "metadata": {},
   "outputs": [
    {
     "data": {
      "image/png": "[encoded data removed]",
      "text/plain": [
       "<Figure size 640x480 with 2 Axes>"
      ]
     },
     "metadata": {},
     "output_type": "display_data"
    }
   ],
   "source": [
    "cm = confusion_matrix(y_test, yhat, labels=baseline_model.classes_)\n",
    "\n",
    "disp = ConfusionMatrixDisplay(confusion_matrix=cm,\n",
    "                              display_labels=baseline_model.classes_\n",
    "                              )\n",
    "disp.plot()\n",
    "#plt.show()\n",
    "plt.savefig('CM_baseline_model.png')"
   ]
  },
  {
   "cell_type": "markdown",
   "id": "024bedd2-34d9-4c8b-bc61-5e182340375e",
   "metadata": {},
   "source": [
    "# Report"
   ]
  },
  {
   "cell_type": "code",
   "execution_count": 7,
   "id": "e1581e89-61e9-4360-bda1-a5e37ef96f49",
   "metadata": {},
   "outputs": [],
   "source": [
    "import time \n",
    "#importing the time library"
   ]
  },
  {
   "cell_type": "code",
   "execution_count": 9,
   "id": "e085727d-a661-40ca-b279-02c91dcbb4d6",
   "metadata": {},
   "outputs": [],
   "source": [
    "start = time.time()\n",
    "#the current time\n",
    "\n",
    "# Drop first category of categorical variables\n",
    "df_dummify = pd.get_dummies(df, drop_first = True)\n",
    "\n",
    "# replace 0 with 10**-10 so the natural log can be calculated\n",
    "list(df_dummify)[:10]\n",
    "\n",
    "for i in list(df_dummify)[:10]:\n",
    "    df_dummify[i] = df_dummify[i].replace(0, 10**-10)\n",
    "\n",
    "# Get the natural log of the continuous variables \n",
    "df_dummify = df_dummify.apply(lambda x: np.log(x) if np.issubdtype(x.dtype, np.number) else x)\n",
    "\n",
    "# select columns for baseline model \n",
    "df_bl = df_dummify.loc[:,['discomfort_eye-strain_Y', 'redness_in_eye_Y', 'irritation_in_eye_Y', 'dry_eye_disease_Y']]\n",
    "\n",
    "# Split df_dummify into X and y\n",
    "X, y = df_bl.iloc[:,:-1], df_bl.loc[:,'dry_eye_disease_Y']\n",
    "\n",
    "# Split X and y into train set and test set\n",
    "X_train, X_test, y_train, y_test = train_test_split(\n",
    "    X, y, test_size = 0.2, random_state = 30)\n",
    "\n",
    "# fit baseline logit model \n",
    "baseline_model = LogisticRegression().fit(X_train, y_train)\n",
    "\n",
    "# predict test set samples \n",
    "yhat = baseline_model.predict(X_test)\n",
    "\n",
    "\n",
    "cv_baseline = cross_validate(baseline_model, X_test, y_test, cv = 3,\n",
    "              scoring = ('accuracy', 'recall', 'f1'))\n",
    "\n",
    "              \n",
    "accuracy_score = np.mean(cv_baseline['test_accuracy'])\n",
    "recall_score = np.mean(cv_baseline['test_recall'])\n",
    "f1_score = np.mean(cv_baseline['test_f1'])\n",
    "\n",
    "end = time.time()"
   ]
  },
  {
   "cell_type": "code",
   "execution_count": 10,
   "id": "1ddeebea-520a-439a-a9d9-23c49812b59d",
   "metadata": {},
   "outputs": [
    {
     "name": "stdout",
     "output_type": "stream",
     "text": [
      "THE PROCESS TOOK : 0.13893961906433105\n"
     ]
    }
   ],
   "source": [
    "print(\"THE PROCESS TOOK :\",end - start)"
   ]
  }
 ],
 "metadata": {
  "kernelspec": {
   "display_name": "anaconda-2024.02-py310",
   "language": "python",
   "name": "conda-env-anaconda-2024.02-py310-py"
  },
  "language_info": {
   "codemirror_mode": {
    "name": "ipython",
    "version": 3
   },
   "file_extension": ".py",
   "mimetype": "text/x-python",
   "name": "python",
   "nbconvert_exporter": "python",
   "pygments_lexer": "ipython3",
   "version": "3.10.14"
  }
 },
 "nbformat": 4,
 "nbformat_minor": 5
}
