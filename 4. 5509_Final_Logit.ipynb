{
 "cells": [
  {
   "cell_type": "code",
   "execution_count": 4,
   "id": "9a41fe28-233f-4675-81e8-c0dd0e813bbf",
   "metadata": {},
   "outputs": [],
   "source": [
    "import pandas as pd \n",
    "import matplotlib.pyplot as plt\n",
    "import seaborn as sbn\n",
    "import numpy as np\n",
    "import os\n",
    "import warnings\n",
    "from sklearn.preprocessing import OneHotEncoder\n",
    "from sklearn.model_selection import train_test_split\n",
    "from sklearn.linear_model import LogisticRegression\n",
    "from sklearn.model_selection import cross_validate, GridSearchCV\n",
    "from sklearn.metrics import accuracy_score, recall_score, f1_score\n",
    "from sklearn.metrics import confusion_matrix, ConfusionMatrixDisplay\n",
    "\n",
    "from sklearn import preprocessing"
   ]
  },
  {
   "cell_type": "code",
   "execution_count": 6,
   "id": "68e1c066-e6d5-41cc-98f4-ad7dbc0f3e1b",
   "metadata": {},
   "outputs": [],
   "source": [
    "df = pd.read_excel('ded_df.xlsx', dtype = {'sleep_quality': str, 'stress_level': str}).iloc[:,1:]"
   ]
  },
  {
   "cell_type": "markdown",
   "id": "d804fd69-4f50-46c6-9b1e-a0c14ef4021a",
   "metadata": {},
   "source": [
    "# Logit model"
   ]
  },
  {
   "cell_type": "code",
   "execution_count": 7,
   "id": "2b093096-37cc-4f62-ab32-f083e8006078",
   "metadata": {},
   "outputs": [],
   "source": [
    "# Drop first category of categorical variables\n",
    "df_dummify = pd.get_dummies(df, drop_first = True)"
   ]
  },
  {
   "cell_type": "code",
   "execution_count": 8,
   "id": "f895dae7-5db2-457e-92ef-d515d17bbf21",
   "metadata": {},
   "outputs": [],
   "source": [
    "# Split df_dummify into X and y\n",
    "X, y = df_dummify.iloc[:,:-1], df_dummify.loc[:,'dry_eye_disease_Y']"
   ]
  },
  {
   "cell_type": "code",
   "execution_count": 9,
   "id": "14ad453b-967a-4a8e-8fce-0befe85c547a",
   "metadata": {},
   "outputs": [],
   "source": [
    "# Split X and y into train set and test set\n",
    "X_train, X_test, y_train, y_test = train_test_split(\n",
    "    X, y, test_size = 0.2, random_state = 30) "
   ]
  },
  {
   "cell_type": "code",
   "execution_count": 55,
   "id": "d35169cd-3257-41a5-94da-e45fd39cf9fc",
   "metadata": {},
   "outputs": [
    {
     "data": {
      "text/plain": [
       "array([[ 1.0615885 ,  1.39130639, -1.09883207, ..., -0.99925028,\n",
       "         1.01055571, -0.99551008],\n",
       "       [-0.29572459, -0.2800753 , -0.59184211, ..., -0.99925028,\n",
       "         1.01055571,  1.00451017],\n",
       "       [-1.03607718,  1.27603869,  1.26712104, ...,  1.00075028,\n",
       "         1.01055571,  1.00451017],\n",
       "       ...,\n",
       "       [-1.65303767, -0.79877997, -0.67634044, ...,  1.00075028,\n",
       "        -0.98955455,  1.00451017],\n",
       "       [-1.28286138,  0.75733403, -0.25384881, ..., -0.99925028,\n",
       "         1.01055571,  1.00451017],\n",
       "       [ 1.30837269,  0.69970017,  1.09812439, ..., -0.99925028,\n",
       "         1.01055571, -0.99551008]])"
      ]
     },
     "execution_count": 55,
     "metadata": {},
     "output_type": "execute_result"
    }
   ],
   "source": [
    "# fit scaler \n",
    "scaler = preprocessing.StandardScaler().fit(X_train)\n",
    "\n",
    "# scale train X\n",
    "X_train_scaled = scaler.transform(X_train)\n",
    "\n",
    "# scale test X\n",
    "X_test_scaled = scaler.transform(X_test)\n",
    "\n",
    "# Fit Logit model\n",
    "Logit_model = LogisticRegression().fit(X_train_scaled, y_train)\n",
    "\n",
    "# predict test set samples \n",
    "yhat = Logit_model.predict(X_test_scaled)"
   ]
  },
  {
   "cell_type": "code",
   "execution_count": 78,
   "id": "df1147b3-12db-4f82-8f8d-d5e1a62035aa",
   "metadata": {},
   "outputs": [
    {
     "data": {
      "text/plain": [
       "{'fit_time': array([0.01304722, 0.01132202, 0.01085353]),\n",
       " 'score_time': array([0.01207995, 0.01294446, 0.01129365]),\n",
       " 'test_accuracy': array([0.67241379, 0.67366842, 0.67516879]),\n",
       " 'test_recall': array([0.93901036, 0.93901036, 0.9516129 ]),\n",
       " 'test_f1': array([0.78878685, 0.78955007, 0.79232614])}"
      ]
     },
     "execution_count": 78,
     "metadata": {},
     "output_type": "execute_result"
    }
   ],
   "source": [
    "# Cross validate model \n",
    "cv_logit = cross_validate(Logit_model, X_test_scaled, y_test, cv = 3,\n",
    "              scoring = ('accuracy', 'recall', 'f1'))\n",
    "cv_logit"
   ]
  },
  {
   "cell_type": "code",
   "execution_count": 80,
   "id": "56c35b15-ecd9-466a-ac40-130dbff93d60",
   "metadata": {},
   "outputs": [
    {
     "name": "stdout",
     "output_type": "stream",
     "text": [
      "accuracy is 0.6737503341352579\n",
      "recall is 0.9432112055631859\n",
      "f1 score is 0.7902210217367035\n"
     ]
    }
   ],
   "source": [
    "# cross validate test set with metrics accuracy, recall and f1\n",
    "accuracy_score = np.mean(cv_logit['test_accuracy'])\n",
    "recall_score = np.mean(cv_logit['test_recall'])\n",
    "f1_score = np.mean(cv_logit['test_f1'])\n",
    "print(\"accuracy is {}\".format(accuracy_score))\n",
    "print(\"recall is {}\".format(recall_score))\n",
    "print(\"f1 score is {}\".format(f1_score))"
   ]
  },
  {
   "cell_type": "code",
   "execution_count": 88,
   "id": "e381c86c-ad0a-4078-9b41-30da898db476",
   "metadata": {},
   "outputs": [
    {
     "data": {
      "image/png": "[encoded data removed]",
      "text/plain": [
       "<Figure size 640x480 with 2 Axes>"
      ]
     },
     "metadata": {},
     "output_type": "display_data"
    }
   ],
   "source": [
    "cm = confusion_matrix(y_test, yhat, labels=Logit_model.classes_)\n",
    "\n",
    "disp = ConfusionMatrixDisplay(confusion_matrix=cm,\n",
    "                              display_labels=Logit_model.classes_\n",
    "                              )\n",
    "disp.plot()\n",
    "#plt.show()\n",
    "plt.savefig('CM_logit_model.png')"
   ]
  },
  {
   "cell_type": "markdown",
   "id": "56b0aed7-301b-4a4d-b7f9-783f1cdb60a9",
   "metadata": {},
   "source": [
    "# Logit model (Grid Search)"
   ]
  },
  {
   "cell_type": "code",
   "execution_count": 133,
   "id": "767c061b-c974-4684-b8c8-4f48e45cc356",
   "metadata": {},
   "outputs": [],
   "source": [
    "# 20 C values to test model on\n",
    "C_grid = np.linspace(0.01,5,50)\n",
    "\n",
    "parameters = {'C': C_grid}\n",
    "parameters\n",
    "\n",
    "# logit model\n",
    "Logit_Grid = LogisticRegression()\n",
    "\n",
    "# Grid search object \n",
    "GS_CV = GridSearchCV(Logit_Grid, parameters).fit(X_train_scaled, y_train)"
   ]
  },
  {
   "cell_type": "code",
   "execution_count": 135,
   "id": "06420196-b17a-419b-bce0-5c290d2a36b3",
   "metadata": {},
   "outputs": [
    {
     "data": {
      "text/html": [
       "<style>#sk-container-id-6 {color: black;}#sk-container-id-6 pre{padding: 0;}#sk-container-id-6 div.sk-toggleable {background-color: white;}#sk-container-id-6 label.sk-toggleable__label {cursor: pointer;display: block;width: 100%;margin-bottom: 0;padding: 0.3em;box-sizing: border-box;text-align: center;}#sk-container-id-6 label.sk-toggleable__label-arrow:before {content: \"▸\";float: left;margin-right: 0.25em;color: #696969;}#sk-container-id-6 label.sk-toggleable__label-arrow:hover:before {color: black;}#sk-container-id-6 div.sk-estimator:hover label.sk-toggleable__label-arrow:before {color: black;}#sk-container-id-6 div.sk-toggleable__content {max-height: 0;max-width: 0;overflow: hidden;text-align: left;background-color: #f0f8ff;}#sk-container-id-6 div.sk-toggleable__content pre {margin: 0.2em;color: black;border-radius: 0.25em;background-color: #f0f8ff;}#sk-container-id-6 input.sk-toggleable__control:checked~div.sk-toggleable__content {max-height: 200px;max-width: 100%;overflow: auto;}#sk-container-id-6 input.sk-toggleable__control:checked~label.sk-toggleable__label-arrow:before {content: \"▾\";}#sk-container-id-6 div.sk-estimator input.sk-toggleable__control:checked~label.sk-toggleable__label {background-color: #d4ebff;}#sk-container-id-6 div.sk-label input.sk-toggleable__control:checked~label.sk-toggleable__label {background-color: #d4ebff;}#sk-container-id-6 input.sk-hidden--visually {border: 0;clip: rect(1px 1px 1px 1px);clip: rect(1px, 1px, 1px, 1px);height: 1px;margin: -1px;overflow: hidden;padding: 0;position: absolute;width: 1px;}#sk-container-id-6 div.sk-estimator {font-family: monospace;background-color: #f0f8ff;border: 1px dotted black;border-radius: 0.25em;box-sizing: border-box;margin-bottom: 0.5em;}#sk-container-id-6 div.sk-estimator:hover {background-color: #d4ebff;}#sk-container-id-6 div.sk-parallel-item::after {content: \"\";width: 100%;border-bottom: 1px solid gray;flex-grow: 1;}#sk-container-id-6 div.sk-label:hover label.sk-toggleable__label {background-color: #d4ebff;}#sk-container-id-6 div.sk-serial::before {content: \"\";position: absolute;border-left: 1px solid gray;box-sizing: border-box;top: 0;bottom: 0;left: 50%;z-index: 0;}#sk-container-id-6 div.sk-serial {display: flex;flex-direction: column;align-items: center;background-color: white;padding-right: 0.2em;padding-left: 0.2em;position: relative;}#sk-container-id-6 div.sk-item {position: relative;z-index: 1;}#sk-container-id-6 div.sk-parallel {display: flex;align-items: stretch;justify-content: center;background-color: white;position: relative;}#sk-container-id-6 div.sk-item::before, #sk-container-id-6 div.sk-parallel-item::before {content: \"\";position: absolute;border-left: 1px solid gray;box-sizing: border-box;top: 0;bottom: 0;left: 50%;z-index: -1;}#sk-container-id-6 div.sk-parallel-item {display: flex;flex-direction: column;z-index: 1;position: relative;background-color: white;}#sk-container-id-6 div.sk-parallel-item:first-child::after {align-self: flex-end;width: 50%;}#sk-container-id-6 div.sk-parallel-item:last-child::after {align-self: flex-start;width: 50%;}#sk-container-id-6 div.sk-parallel-item:only-child::after {width: 0;}#sk-container-id-6 div.sk-dashed-wrapped {border: 1px dashed gray;margin: 0 0.4em 0.5em 0.4em;box-sizing: border-box;padding-bottom: 0.4em;background-color: white;}#sk-container-id-6 div.sk-label label {font-family: monospace;font-weight: bold;display: inline-block;line-height: 1.2em;}#sk-container-id-6 div.sk-label-container {text-align: center;}#sk-container-id-6 div.sk-container {/* jupyter's `normalize.less` sets `[hidden] { display: none; }` but bootstrap.min.css set `[hidden] { display: none !important; }` so we also need the `!important` here to be able to override the default hidden behavior on the sphinx rendered scikit-learn.org. See: https://github.com/scikit-learn/scikit-learn/issues/21755 */display: inline-block !important;position: relative;}#sk-container-id-6 div.sk-text-repr-fallback {display: none;}</style><div id=\"sk-container-id-6\" class=\"sk-top-container\"><div class=\"sk-text-repr-fallback\"><pre>LogisticRegression(C=2.555918367346939)</pre><b>In a Jupyter environment, please rerun this cell to show the HTML representation or trust the notebook. <br />On GitHub, the HTML representation is unable to render, please try loading this page with nbviewer.org.</b></div><div class=\"sk-container\" hidden><div class=\"sk-item\"><div class=\"sk-estimator sk-toggleable\"><input class=\"sk-toggleable__control sk-hidden--visually\" id=\"sk-estimator-id-8\" type=\"checkbox\" checked><label for=\"sk-estimator-id-8\" class=\"sk-toggleable__label sk-toggleable__label-arrow\">LogisticRegression</label><div class=\"sk-toggleable__content\"><pre>LogisticRegression(C=2.555918367346939)</pre></div></div></div></div></div>"
      ],
      "text/plain": [
       "LogisticRegression(C=2.555918367346939)"
      ]
     },
     "execution_count": 135,
     "metadata": {},
     "output_type": "execute_result"
    }
   ],
   "source": [
    "GS_CV.best_estimator_"
   ]
  },
  {
   "cell_type": "code",
   "execution_count": 137,
   "id": "a294066b-ae75-4470-a7da-24d58a958450",
   "metadata": {},
   "outputs": [],
   "source": [
    "yhat_grid = GS_CV.best_estimator_.predict(X_test_scaled)"
   ]
  },
  {
   "cell_type": "code",
   "execution_count": 139,
   "id": "20cddeb8-1bf0-411b-ae2b-f1c320d8469a",
   "metadata": {},
   "outputs": [
    {
     "data": {
      "text/plain": [
       "{'fit_time': array([0.14186525, 0.04463482, 0.06070447]),\n",
       " 'score_time': array([0.0647645 , 0.01757288, 0.01678038]),\n",
       " 'test_accuracy': array([0.67241379, 0.67291823, 0.67516879]),\n",
       " 'test_recall': array([0.93901036, 0.93785961, 0.9516129 ]),\n",
       " 'test_f1': array([0.78878685, 0.78896418, 0.79232614])}"
      ]
     },
     "execution_count": 139,
     "metadata": {},
     "output_type": "execute_result"
    }
   ],
   "source": [
    "cv_logit_grid = cross_validate(GS_CV.best_estimator_, X_test_scaled, y_test, cv = 3,\n",
    "              scoring = ('accuracy', 'recall', 'f1'))\n",
    "cv_logit_grid"
   ]
  },
  {
   "cell_type": "code",
   "execution_count": 141,
   "id": "86398492-b5d7-42cd-80b8-923bef188caf",
   "metadata": {},
   "outputs": [
    {
     "name": "stdout",
     "output_type": "stream",
     "text": [
      "accuracy is 0.6735002716196291\n",
      "recall is 0.9428276229011224\n",
      "f1 score is 0.7900257248784538\n"
     ]
    }
   ],
   "source": [
    "# cross validate test set with metrics accuracy, recall and f1\n",
    "accuracy_score = np.mean(cv_logit_grid['test_accuracy'])\n",
    "recall_score = np.mean(cv_logit_grid['test_recall'])\n",
    "f1_score = np.mean(cv_logit_grid['test_f1'])\n",
    "print(\"accuracy is {}\".format(accuracy_score))\n",
    "print(\"recall is {}\".format(recall_score))\n",
    "print(\"f1 score is {}\".format(f1_score))"
   ]
  },
  {
   "cell_type": "code",
   "execution_count": 145,
   "id": "105aefd7-7ffe-48b9-8be3-5d2f629a8eba",
   "metadata": {},
   "outputs": [
    {
     "data": {
      "image/png": "[encoded data removed]",
      "text/plain": [
       "<Figure size 640x480 with 2 Axes>"
      ]
     },
     "metadata": {},
     "output_type": "display_data"
    }
   ],
   "source": [
    "cm = confusion_matrix(y_test, yhat_grid, labels = GS_CV.best_estimator_.classes_)\n",
    "\n",
    "disp = ConfusionMatrixDisplay(confusion_matrix=cm,\n",
    "                              display_labels = GS_CV.best_estimator_.classes_\n",
    "                              )\n",
    "disp.plot()\n",
    "#plt.savefig('CM_logit_grid_model.png')\n",
    "plt.show()"
   ]
  }
 ],
 "metadata": {
  "kernelspec": {
   "display_name": "anaconda-ai-2024.04-py310",
   "language": "python",
   "name": "conda-env-anaconda-ai-2024.04-py310-py"
  },
  "language_info": {
   "codemirror_mode": {
    "name": "ipython",
    "version": 3
   },
   "file_extension": ".py",
   "mimetype": "text/x-python",
   "name": "python",
   "nbconvert_exporter": "python",
   "pygments_lexer": "ipython3",
   "version": "3.10.13"
  }
 },
 "nbformat": 4,
 "nbformat_minor": 5
}
